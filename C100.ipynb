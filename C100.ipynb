{
  "nbformat": 4,
  "nbformat_minor": 0,
  "metadata": {
    "colab": {
      "provenance": [],
      "include_colab_link": true
    },
    "kernelspec": {
      "name": "python3",
      "display_name": "Python 3"
    },
    "language_info": {
      "name": "python"
    }
  },
  "cells": [
    {
      "cell_type": "markdown",
      "metadata": {
        "id": "view-in-github",
        "colab_type": "text"
      },
      "source": [
        "<a href=\"https://colab.research.google.com/github/harshad13412/c100/blob/main/C100.ipynb\" target=\"_parent\"><img src=\"https://colab.research.google.com/assets/colab-badge.svg\" alt=\"Open In Colab\"/></a>"
      ]
    },
    {
      "cell_type": "markdown",
      "metadata": {
        "id": "FEJpk7d85AEe"
      },
      "source": [
        "## Phonebook"
      ]
    },
    {
      "cell_type": "code",
      "metadata": {
        "id": "TvPncZmt4lLb"
      },
      "source": [
        "# Define Class\n",
        "class Contact_Details:\n",
        "\n",
        "    # Define Attributes of class\n",
        "    def __init__(self, name, mobile_number, email, address):\n",
        "        self.contact_name = name\n",
        "        self.contact_number = mobile_number\n",
        "        self.email = email\n",
        "        self.contact_address = address\n",
        "\n",
        "        # Make a dictionary of the contact details\n",
        "        self.person = {\n",
        "            \"name\": self.contact_name,\n",
        "            \"mobile\" : self.contact_number,\n",
        "            \"email\": self.email,\n",
        "            \"address\": self.contact_address\n",
        "        }\n",
        "\n",
        "\n",
        "    # Define Methods of class\n",
        "    def view_contact_details(self, contact_list):\n",
        "         print(contact_list)\n",
        "\n",
        "    # Add the contact details to the list\n",
        "    def add_contact_details(self, contact_list):\n",
        "      contact_list.append(self.person)\n",
        "\n",
        "    # REPLACE THIS COMMENT WITH CODE#"
      ],
      "execution_count": null,
      "outputs": []
    },
    {
      "cell_type": "code",
      "metadata": {
        "id": "IhfI3d6OF6K8",
        "outputId": "b07ff8e4-c986-41b9-8913-31f6a7da5518",
        "colab": {
          "base_uri": "https://localhost:8080/"
        }
      },
      "source": [
        "# Create Object of the class\n",
        "new_contact = Contact_Details(\"harsh\",\"4456874124\",\"abc@gmail.com\",\"amboli\")\n",
        "phone_book = []\n",
        "new_contact.add_contact_details(phone_book)\n",
        "new_contact.view_contact_details(phone_book)\n"
      ],
      "execution_count": null,
      "outputs": [
        {
          "output_type": "stream",
          "name": "stdout",
          "text": [
            "[{'name': 'harsh', 'mobile': '4456874124', 'email': 'abc@gmail.com', 'address': 'amboli'}]\n"
          ]
        }
      ]
    },
    {
      "cell_type": "code",
      "metadata": {
        "id": "kWMf88E6jMn3",
        "outputId": "426b8291-33ae-43de-8bff-bdb4dad80291",
        "colab": {
          "base_uri": "https://localhost:8080/"
        }
      },
      "source": [
        "# Call Methods of the class\n",
        "new_contact = Contact_Details(\"dev\",\"788972154\",\"xyz@gmail.com\",\"ambap\")\n",
        "new_contact.add_contact_details(phone_book)\n",
        "new_contact.view_contact_details(phone_book)"
      ],
      "execution_count": null,
      "outputs": [
        {
          "output_type": "stream",
          "name": "stdout",
          "text": [
            "[{'name': 'harsh', 'mobile': '4456874124', 'email': 'abc@gmail.com', 'address': 'amboli'}, {'name': 'dev', 'mobile': '788972154', 'email': 'xyz@gmail.com', 'address': 'ambap'}, {'name': 'dev', 'mobile': '788972154', 'email': 'xyz@gmail.com', 'address': 'ambap'}]\n"
          ]
        }
      ]
    }
  ]
}